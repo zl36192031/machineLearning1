{
 "cells": [
  {
   "cell_type": "markdown",
   "metadata": {},
   "source": [
    "# Linear classification"
   ]
  },
  {
   "cell_type": "code",
   "execution_count": 15,
   "metadata": {},
   "outputs": [
    {
     "data": {
      "image/png": "[encoded data removed]",
      "text/plain": [
       "<matplotlib.figure.Figure at 0x15eb52fcbe0>"
      ]
     },
     "metadata": {},
     "output_type": "display_data"
    },
    {
     "name": "stdout",
     "output_type": "stream",
     "text": [
      "0.276950557196\n",
      "0.371275831682\n"
     ]
    }
   ],
   "source": [
    "#linear classification\n",
    "import numpy as np\n",
    "import matplotlib.pyplot as plt\n",
    "from sklearn.datasets import load_svmlight_file\n",
    "from sklearn.model_selection import train_test_split\n",
    "from sklearn.model_selection import train_test_split\n",
    "\n",
    "#read the data\n",
    "housing_path = './australian_scale.txt'\n",
    "X, y = load_svmlight_file(housing_path)\n",
    "\n",
    "#add 1 for each row\n",
    "X = X.toarray()\n",
    "row,col=X.shape\n",
    "X=np.column_stack((X,np.ones(row)))\n",
    "\n",
    "#divide data into training and validation\n",
    "X_train, X_validation, y_train, y_validation = train_test_split(X, y, test_size=0.2, random_state=30)\n",
    "\n",
    "#initialize by zeros\n",
    "W = np.zeros(X_train.shape[1])\n",
    "\n",
    "#define learn rate, itreation, lambdal, loss array, accuracy array\n",
    "learn_rate = 0.05\n",
    "iteration = 500\n",
    "lambdal = 0.01\n",
    "\n",
    "loss_train = np.zeros(iteration)\n",
    "loss_validation = np.zeros(iteration)\n",
    "accuracy = np.zeros(iteration)\n",
    "\n",
    "#loss function\n",
    "def get_loss(X, W, y, lambdal, W_0):\n",
    "    diff = np.ones(y.shape[0]) - y * np.dot(X, W)\n",
    "    diff[diff < 0] = 0\n",
    "    loss = np.sum(diff) / X.shape[0] + np.dot(W_0,W_0.T)/2*lambdal\n",
    "    return loss\n",
    "\n",
    "#gradient function\n",
    "def get_gradient(X, W, y, lambdal, W_0):\n",
    "    diff = np.ones(y.shape[0]) - y * np.dot(X, W)\n",
    "    y_get = y.copy()\n",
    "    y_get[diff <= 0] = 0\n",
    "    G = -np.dot(y_get,X) / X.shape[0] + W_0 * lambdal  \n",
    "    return G\n",
    "\n",
    "#accuracy function\n",
    "def get_accuracy(x, W, y):\n",
    "    preY = np.dot(X,W)  \n",
    "    count = np.sum(preY * y >0)  \n",
    "    Accuracy = count / X.shape[0]  \n",
    "    return Accuracy\n",
    "\n",
    "\n",
    "#start iteration\n",
    "for i in range(iteration):\n",
    "    W_0 = W.copy()\n",
    "    W_0[col-1]= 0\n",
    "    # get loss\n",
    "    loss_train[i] = get_loss(X_train, W, y_train, lambdal, W_0)\n",
    "    loss_validation[i] = get_loss(X_validation, W, y_validation, lambdal, W_0)\n",
    "    \n",
    "    #get accuracy\n",
    "    #accuracy[i] = get_accuracy(X_validation, W, y_validation)\n",
    "    \n",
    "    #get gradient and update W\n",
    "    G = get_gradient(X_train, W, y_train, lambdal, W_0)\n",
    "    W = W - learn_rate * G\n",
    "\n",
    "#draw the result\n",
    "plt.plot(loss_train,label=\"loss_train\")  \n",
    "plt.plot(loss_validation,label=\"loss_validation\")  \n",
    "plt.legend()  \n",
    "plt.xlabel(\"iteration\")  \n",
    "plt.ylabel(\"loss\")  \n",
    "plt.title(\"Linear classification\")  \n",
    "plt.show()\n",
    "print(loss_train[iteration-1])\n",
    "print(loss_validation[iteration-1])\n",
    "\n"
   ]
  }
 ],
 "metadata": {
  "kernelspec": {
   "display_name": "Python 3",
   "language": "python",
   "name": "python3"
  },
  "language_info": {
   "codemirror_mode": {
    "name": "ipython",
    "version": 3
   },
   "file_extension": ".py",
   "mimetype": "text/x-python",
   "name": "python",
   "nbconvert_exporter": "python",
   "pygments_lexer": "ipython3",
   "version": "3.6.3"
  }
 },
 "nbformat": 4,
 "nbformat_minor": 2
}
