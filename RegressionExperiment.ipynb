{
 "cells": [
  {
   "cell_type": "markdown",
   "metadata": {},
   "source": [
    "# Linear regression"
   ]
  },
  {
   "cell_type": "code",
   "execution_count": 52,
   "metadata": {},
   "outputs": [
    {
     "data": {
      "image/png": "[encoded data removed]",
      "text/plain": [
       "<matplotlib.figure.Figure at 0x1d9a2ffb358>"
      ]
     },
     "metadata": {},
     "output_type": "display_data"
    },
    {
     "name": "stdout",
     "output_type": "stream",
     "text": [
      "13.0895323848\n",
      "9.06048436574\n"
     ]
    }
   ],
   "source": [
    "#linear regression\n",
    "import numpy as np\n",
    "import matplotlib.pyplot as plt\n",
    "from sklearn.datasets import load_svmlight_file\n",
    "from sklearn.model_selection import train_test_split\n",
    "\n",
    "#read the data\n",
    "housing_path = './housing_scale.txt'\n",
    "X, y = load_svmlight_file(housing_path)\n",
    "\n",
    "#add 1 for each row\n",
    "X = X.toarray()\n",
    "row,col=X.shape\n",
    "X=np.column_stack((X,np.ones(row)))\n",
    "\n",
    "#divide data into training and validation\n",
    "X_train, X_validation, y_train, y_validation = train_test_split(X, y, test_size=0.2, random_state=30)\n",
    "\n",
    "#initialize by zeros\n",
    "W = np.zeros(col+1)\n",
    "\n",
    "#define learn rate and itreation, loss array\n",
    "learn_rate = 0.02\n",
    "iteration = 500\n",
    "\n",
    "loss_train = np.zeros(interation)\n",
    "loss_validation = np.zeros(interation)\n",
    "\n",
    "#loss function\n",
    "def get_loss(X, W, y):\n",
    "    diff = y - np.dot(X, W)\n",
    "    loss = np.dot(diff,diff.T) / (2 * X.shape[0])\n",
    "    return loss\n",
    "\n",
    "#gradient function\n",
    "def get_gradient(X, W, y):\n",
    "    diff = y - np.dot(X, W)\n",
    "    G = - np.dot(diff,X)/ X.shape[0]\n",
    "    return G\n",
    "\n",
    "#start interation\n",
    "for i in range(iteration):\n",
    "    # get loss\n",
    "    loss_train[i] = get_loss(X_train, W, y_train)\n",
    "    loss_validation[i] = get_loss(X_validation, W, y_validation)\n",
    "    \n",
    "    #get gradient and update W\n",
    "    G = get_gradient(X_train, W, y_train)\n",
    "    W = W - learn_rate * G\n",
    "\n",
    "#draw the result\n",
    "plt.plot(loss_train,label=\"loss_train\")  \n",
    "plt.plot(loss_validation,label=\"loss_validation\")  \n",
    "plt.legend()  \n",
    "plt.xlabel(\"iteration\")  \n",
    "plt.ylabel(\"loss\")  \n",
    "plt.title(\"Linear regression\")  \n",
    "plt.show()\n",
    "print(loss_train[iteration-1])\n",
    "print(loss_validation[iteration-1])\n",
    "\n"
   ]
  }
 ],
 "metadata": {
  "kernelspec": {
   "display_name": "Python 3",
   "language": "python",
   "name": "python3"
  },
  "language_info": {
   "codemirror_mode": {
    "name": "ipython",
    "version": 3
   },
   "file_extension": ".py",
   "mimetype": "text/x-python",
   "name": "python",
   "nbconvert_exporter": "python",
   "pygments_lexer": "ipython3",
   "version": "3.6.3"
  }
 },
 "nbformat": 4,
 "nbformat_minor": 2
}
